{
  "nbformat": 4,
  "nbformat_minor": 0,
  "metadata": {
    "colab": {
      "provenance": []
    },
    "kernelspec": {
      "name": "python3",
      "display_name": "Python 3"
    },
    "language_info": {
      "name": "python"
    }
  },
  "cells": [
    {
      "cell_type": "code",
      "execution_count": null,
      "metadata": {
        "id": "MXc0hXJ8avKh"
      },
      "outputs": [],
      "source": [
        "#regression file"
      ]
    },
    {
      "cell_type": "code",
      "source": [],
      "metadata": {
        "id": "W0tfGX4Obc9o"
      },
      "execution_count": null,
      "outputs": []
    }
  ]
}