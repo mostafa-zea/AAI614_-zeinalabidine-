{
  "nbformat": 4,
  "nbformat_minor": 0,
  "metadata": {
    "colab": {
      "provenance": []
    },
    "kernelspec": {
      "name": "python3",
      "display_name": "Python 3"
    },
    "language_info": {
      "name": "python"
    }
  },
  "cells": [
    {
      "cell_type": "markdown",
      "source": [
        "# **AAI614: Data Science & its Applications**\n",
        "# Graded Assessment: Project 1\n",
        "---\n",
        "*Mostafa Zein al Abidine - 201201495*\n",
        "\n",
        "[![Open In Colab](https://colab.research.google.com/assets/colab-badge.svg)](https://colab.research.google.com/github/mostafa-zea/AAI614_-zeinalabidine-/blob/main/AAI_614O_Project1_Mostafa_Z.ipynb)\n"
      ],
      "metadata": {
        "id": "JLWVkadza7DY"
      }
    },
    {
      "cell_type": "code",
      "source": [],
      "metadata": {
        "id": "d4nAaEEGo3Ln"
      },
      "execution_count": null,
      "outputs": []
    }
  ]
}