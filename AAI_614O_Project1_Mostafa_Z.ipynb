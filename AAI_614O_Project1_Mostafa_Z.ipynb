{
  "nbformat": 4,
  "nbformat_minor": 0,
  "metadata": {
    "colab": {
      "provenance": []
    },
    "kernelspec": {
      "name": "python3",
      "display_name": "Python 3"
    },
    "language_info": {
      "name": "python"
    }
  },
  "cells": [
    {
      "cell_type": "markdown",
      "source": [
        "# **AAI614: Data Science & its Applications**\n",
        "# Graded Assessment: Project 1\n",
        "---\n",
        "*Mostafa Zein al Abidine - 201201495*"
      ],
      "metadata": {
        "id": "JLWVkadza7DY"
      }
    },
    {
      "cell_type": "code",
      "source": [],
      "metadata": {
        "id": "JdooPNXEbB7m"
      },
      "execution_count": null,
      "outputs": []
    },
    {
      "cell_type": "code",
      "source": [],
      "metadata": {
        "id": "WQeYgvzQcIXd"
      },
      "execution_count": null,
      "outputs": []
    }
  ]
}